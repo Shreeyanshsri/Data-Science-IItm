{
 "cells": [
  {
   "cell_type": "markdown",
   "id": "e6a21829",
   "metadata": {},
   "source": [
    "# Int,float, Complex = Numerical"
   ]
  },
  {
   "cell_type": "code",
   "execution_count": null,
   "id": "d3e713f8",
   "metadata": {},
   "outputs": [],
   "source": [
    "a=5678\n",
    "print(a,type(a))\n"
   ]
  },
  {
   "cell_type": "code",
   "execution_count": null,
   "id": "cd7c005b",
   "metadata": {},
   "outputs": [],
   "source": [
    "b=12.56\n",
    "print(b,type(b))"
   ]
  },
  {
   "cell_type": "code",
   "execution_count": null,
   "id": "ed708306",
   "metadata": {},
   "outputs": [],
   "source": [
    "a=456+8j\n",
    "print(a,type(a))"
   ]
  },
  {
   "cell_type": "markdown",
   "id": "b5c99b02",
   "metadata": {},
   "source": [
    "# Str, double, triple"
   ]
  },
  {
   "cell_type": "code",
   "execution_count": null,
   "id": "6f5566eb",
   "metadata": {},
   "outputs": [],
   "source": [
    "a=\"hello python\"\n",
    "print(a,type(a))"
   ]
  },
  {
   "cell_type": "code",
   "execution_count": null,
   "id": "78c9fa49",
   "metadata": {},
   "outputs": [],
   "source": [
    "poem='''Twinkle twinkle little star\n",
    "How I wonder what you are\n",
    "Up above the world so high\n",
    "Like a diamond in the sky\n",
    "Twinkle twinkle little star\n",
    "How I wonder what you are\n",
    "\n",
    "\n",
    "\n",
    "Twinkle twinkle little star\n",
    "How I wonder what you are\n",
    "Up above the world so high\n",
    "Like a diamond in the sky\n",
    "Twinkle twinkle little star\n",
    "How I wonder what you are'''\n",
    "\n",
    "print(poem)"
   ]
  },
  {
   "cell_type": "markdown",
   "id": "f2de833d",
   "metadata": {},
   "source": [
    "TUPLE\n"
   ]
  },
  {
   "cell_type": "code",
   "execution_count": null,
   "id": "32229c13",
   "metadata": {},
   "outputs": [],
   "source": [
    "#tuple\n",
    "a=(2,3234,5,62434)\n",
    "print(a,type(a))"
   ]
  },
  {
   "cell_type": "code",
   "execution_count": null,
   "id": "29f0404d",
   "metadata": {},
   "outputs": [],
   "source": [
    "#tuple\n",
    "a+(2,)\n",
    "print(a,type(a))"
   ]
  },
  {
   "cell_type": "markdown",
   "id": "4357e58a",
   "metadata": {},
   "source": [
    "TYPECASTING"
   ]
  },
  {
   "cell_type": "code",
   "execution_count": null,
   "id": "95c989bc",
   "metadata": {},
   "outputs": [],
   "source": [
    "a=list(a)\n",
    "a[3]=3000\n",
    "a=tuple(a)\n",
    "print(a,type(a))"
   ]
  },
  {
   "cell_type": "markdown",
   "id": "c1dd3f78",
   "metadata": {},
   "source": [
    "SET"
   ]
  },
  {
   "cell_type": "code",
   "execution_count": null,
   "id": "ea2ace4a",
   "metadata": {},
   "outputs": [],
   "source": [
    "std_id=[2,2,34,3,2,2,1,1,1,1,5,5,5,5,5]\n",
    "print(std_id)"
   ]
  },
  {
   "cell_type": "code",
   "execution_count": null,
   "id": "10d3e8cc",
   "metadata": {},
   "outputs": [],
   "source": [
    "std_id=list(set(std_id))\n",
    "print(std_id,type(std_id))"
   ]
  },
  {
   "cell_type": "markdown",
   "id": "e56fdd1a",
   "metadata": {},
   "source": [
    "DICTIONARY"
   ]
  },
  {
   "cell_type": "code",
   "execution_count": null,
   "id": "3548e2d1",
   "metadata": {},
   "outputs": [],
   "source": [
    "a={'name':'aman','age':23,'address':'delhi'}\n",
    "print(a,type(a))"
   ]
  },
  {
   "cell_type": "code",
   "execution_count": null,
   "id": "50047e9c",
   "metadata": {},
   "outputs": [],
   "source": [
    "a['name']='aman kumar'\n",
    "print(a)"
   ]
  },
  {
   "cell_type": "code",
   "execution_count": null,
   "id": "ee0688a5",
   "metadata": {},
   "outputs": [],
   "source": [
    "data={'region':['north','south','east','west'],'sales':[345,546,453.456],'profit':[120,200,96,78]}\n"
   ]
  },
  {
   "cell_type": "code",
   "execution_count": null,
   "id": "6a4a1eae",
   "metadata": {},
   "outputs": [],
   "source": [
    "import pandas as pd\n",
    "data={'region':['north','south','east','west'],'sales':[345,546,453,456],'profit':[120,200,96,78]}\n",
    "table=pd.DataFrame(data)\n",
    "print(table)"
   ]
  },
  {
   "cell_type": "markdown",
   "id": "1f286ed6",
   "metadata": {},
   "source": [
    "# salary = 56789\n",
    "\n",
    "# >= 50: manager\n",
    "# >= 30: Jr manager\n",
    "# >= 20: Executive\n",
    "# Intern"
   ]
  },
  {
   "cell_type": "code",
   "execution_count": 7,
   "id": "bfd2dc97",
   "metadata": {},
   "outputs": [
    {
     "name": "stdout",
     "output_type": "stream",
     "text": [
      "executive\n"
     ]
    }
   ],
   "source": [
    "salary=27000\n",
    "if salary >= 50000:\n",
    "    print('manager')\n",
    "elif salary >=30000:\n",
    "    print('jr manager')\n",
    "elif salary>=20000:\n",
    "    print('executive')\n",
    "else:\n",
    "    print('intern')"
   ]
  },
  {
   "cell_type": "code",
   "execution_count": null,
   "id": "f271272c",
   "metadata": {},
   "outputs": [],
   "source": [
    "import random\n",
    "random.randint(1,10)"
   ]
  },
  {
   "cell_type": "markdown",
   "id": "7b624423",
   "metadata": {},
   "source": [
    "RANDOM GAME"
   ]
  },
  {
   "cell_type": "code",
   "execution_count": null,
   "id": "1e27cd32",
   "metadata": {},
   "outputs": [],
   "source": [
    "user_attempts = 3\n",
    "import random\n",
    "for i in range(user_attempts):\n",
    "  comp_choice = random.randint(1,10)\n",
    "  user_choice = int(input('Enter your Choice(1-10): '))\n",
    "\n",
    "  print(f'''\n",
    "  User choice: {user_choice}\n",
    "  Computer Choice: {comp_choice}''')\n",
    "\n",
    "  if user_choice == comp_choice:\n",
    "    print('User Won, Comp Lose!!')\n",
    "  else:\n",
    "    print('Better Luck next time!!')"
   ]
  },
  {
   "cell_type": "markdown",
   "id": "4298e550",
   "metadata": {},
   "source": [
    "KBC PROGRAM\n"
   ]
  },
  {
   "cell_type": "code",
   "execution_count": null,
   "id": "54e9df40",
   "metadata": {
    "jupyter": {
     "source_hidden": true
    }
   },
   "outputs": [],
   "source": [
    "Questions = {1:'What is the capital of Australia?',\n",
    "             2:'Who invented the telephone?',\n",
    "             3:'Which planet is known as the Red Planet?',\n",
    "             4:'In which year did India gain independence?',\n",
    "             5:'What is the largest organ in the human body?'}\n",
    "\n",
    "options = {1:'''A) Sydney\n",
    "B) Melbourne\n",
    "C) Canberra\n",
    "D) Perth''',\n",
    "           2:'''A) Albert Einstein\n",
    "B) Isaac Newton\n",
    "C) Alexander Graham Bell\n",
    "D) Thomas Edison''',\n",
    "           3:'''A) Earth\n",
    "B) Venus\n",
    "C) Jupiter\n",
    "D) Mars''',\n",
    "           4:'''A) 1945\n",
    "B) 1946\n",
    "C) 1947\n",
    "D) 1950''',\n",
    "           5:'''A) Liver\n",
    "B) Brain\n",
    "C) Skin\n",
    "D) Heart'''}\n",
    "\n",
    "\n",
    "correct_op = ['B','C','D','C','C']\n",
    "\n",
    "for i in range(1,len(Questions)+1):\n",
    "    print(Questions[i])\n",
    "    print(options[i])\n",
    "    user_choice = input('Enter your choice: ').upper()\n",
    "    correct_ans = correct_op[i-1]\n",
    "    print(correct_ans)\n",
    "    win_ammount=0\n",
    "    if user_choice == correct_ans:\n",
    "        win_ammount += 10000\n",
    "        print(\"7 CRORE\")\n",
    "        print(end = '\\n'*3)\n",
    "    else:\n",
    "        print('Better luck next time!!')\n",
    "        break\n",
    "print('Total Amount Won',win_ammount)"
   ]
  },
  {
   "cell_type": "markdown",
   "id": "0aa6eb09",
   "metadata": {},
   "source": [
    "VOTING PROGRAM MULTI LINE\n"
   ]
  },
  {
   "cell_type": "code",
   "execution_count": 6,
   "id": "b1498580",
   "metadata": {},
   "outputs": [
    {
     "name": "stdin",
     "output_type": "stream",
     "text": [
      "enter your age: 19\n"
     ]
    },
    {
     "name": "stdout",
     "output_type": "stream",
     "text": [
      "19\n",
      "eligible for vote\n"
     ]
    }
   ],
   "source": [
    "def vote():\n",
    "    age=int(input(\"enter your age:\"))\n",
    "    print(age)\n",
    "    if(age>=18):\n",
    "        print(\"eligible for vote\")\n",
    "    else:\n",
    "        print(\"not eligible to vote\")\n",
    "vote()\n"
   ]
  },
  {
   "cell_type": "markdown",
   "id": "f831b393",
   "metadata": {},
   "source": [
    "VOTING PROGRAM SINGLE LINE\n"
   ]
  },
  {
   "cell_type": "code",
   "execution_count": null,
   "id": "4649231f",
   "metadata": {},
   "outputs": [],
   "source": [
    "def vote(age):\n",
    "  print('can Vote!!') if age >= 18 else print('can not Vote!!')\n",
    "vote(4)"
   ]
  },
  {
   "cell_type": "code",
   "execution_count": null,
   "id": "ea2c835d",
   "metadata": {},
   "outputs": [],
   "source": [
    "pip install gTTs"
   ]
  },
  {
   "cell_type": "markdown",
   "id": "5d4b939a",
   "metadata": {},
   "source": [
    "SOUNDBOX PROGRAM"
   ]
  },
  {
   "cell_type": "code",
   "execution_count": 11,
   "id": "b08f08ce-6fbe-4151-83ff-3e86e129e7c5",
   "metadata": {},
   "outputs": [],
   "source": [
    "from gtts import gTTS\n",
    "def soundbox(paisa):\n",
    "    text=f\"paytm pe {paisa} prapt huye\"\n",
    "    audio=gTTS(text)\n",
    "    audio.save(\"paytm.mp3\")\n",
    "    import pygame as pg\n",
    "    pg.init()\n",
    "    music=pg.mixer.Sound('paytm.mp3')\n",
    "    music.play()\n",
    "soundbox(2000)"
   ]
  },
  {
   "cell_type": "code",
   "execution_count": null,
   "id": "c5ee5136",
   "metadata": {},
   "outputs": [],
   "source": [
    "pip install pygame"
   ]
  },
  {
   "cell_type": "code",
   "execution_count": null,
   "id": "f4a13278-5530-4331-836d-7a9cc90c1187",
   "metadata": {},
   "outputs": [],
   "source": []
  }
 ],
 "metadata": {
  "kernelspec": {
   "display_name": "Python 3 (ipykernel)",
   "language": "python",
   "name": "python3"
  },
  "language_info": {
   "codemirror_mode": {
    "name": "ipython",
    "version": 3
   },
   "file_extension": ".py",
   "mimetype": "text/x-python",
   "name": "python",
   "nbconvert_exporter": "python",
   "pygments_lexer": "ipython3",
   "version": "3.13.5"
  }
 },
 "nbformat": 4,
 "nbformat_minor": 5
}
