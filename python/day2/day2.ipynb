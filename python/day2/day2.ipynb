{
 "cells": [
  {
   "cell_type": "markdown",
   "id": "49b42a6a-6706-4336-a39c-204272a8192d",
   "metadata": {},
   "source": [
    "Palindrome(number or word which is same after reversing)\n"
   ]
  },
  {
   "cell_type": "code",
   "execution_count": null,
   "id": "a3e723ff-39e5-4291-8c65-c164c9d30cfe",
   "metadata": {},
   "outputs": [],
   "source": [
    "a='nitin'.\n",
    "\n",
    "if a==a[::-1]:\n",
    "    print(f\"{a} is palindrome\")\n",
    "else:\n",
    "    print(f\"{a} is not palindrome\")\n"
   ]
  },
  {
   "cell_type": "code",
   "execution_count": null,
   "id": "a70dbac8-f525-4dc5-947e-2670fd06ff00",
   "metadata": {},
   "outputs": [],
   "source": [
    "def check_palindrome(world:str):\n",
    "    if type(world)==str:\n",
    "        if world==world[::-1]:\n",
    "            return 'palindrome'\n",
    "        else:\n",
    "            return 'not a palindrome'\n",
    "    else:\n",
    "        return 'invalid datatype'\n",
    "check_palindrome(121)"
   ]
  },
  {
   "cell_type": "markdown",
   "id": "768630fa",
   "metadata": {},
   "source": [
    "Fibonachi Series"
   ]
  },
  {
   "cell_type": "code",
   "execution_count": null,
   "id": "97fa31ab",
   "metadata": {},
   "outputs": [],
   "source": [
    "def give_fibo(n):\n",
    "    fibo = [0,1]\n",
    "    for i in range(n-2):\n",
    "        last_num=fibo[-1]\n",
    "        second_last_num=fibo[-2]\n",
    "        next_num=last_num+second_last_num\n",
    "        fibo.append(next_num)\n",
    "    return fibo\n",
    "print(give_fibo(5))"
   ]
  },
  {
   "cell_type": "markdown",
   "id": "89609528",
   "metadata": {},
   "source": [
    "PRIME NUMBER"
   ]
  },
  {
   "cell_type": "code",
   "execution_count": null,
   "id": "16949356",
   "metadata": {},
   "outputs": [],
   "source": [
    "def check_prime(number):\n",
    "    for i in range(2,number):\n",
    "        if (number%i==0):\n",
    "            print(f\"{number} is not prime\")\n",
    "            break\n",
    "    else:\n",
    "        return f\"{number} is prime\"\n",
    "check_prime(7)"
   ]
  },
  {
   "cell_type": "markdown",
   "id": "77247b2e",
   "metadata": {},
   "source": [
    "Pattern building"
   ]
  },
  {
   "cell_type": "code",
   "execution_count": null,
   "id": "d38fab3e",
   "metadata": {},
   "outputs": [],
   "source": [
    "n=int(input(\"enter a number: \"))\n",
    "for i in range(1,n+1):\n",
    "    print(i*'*')"
   ]
  },
  {
   "cell_type": "code",
   "execution_count": null,
   "id": "7313f5b4",
   "metadata": {},
   "outputs": [],
   "source": [
    "n=int(input(\"enter a number: \"))\n",
    "for i in range(1,n+1):\n",
    "    print(\" \"*(n-i) + i*\"*\")"
   ]
  },
  {
   "cell_type": "code",
   "execution_count": null,
   "id": "cc809043",
   "metadata": {},
   "outputs": [],
   "source": [
    "n=int(input(\"enter a number: \"))\n",
    "for i in range(1,n+1):\n",
    "    print(\" \"*(n-i) + i*\"* \")"
   ]
  },
  {
   "cell_type": "code",
   "execution_count": null,
   "id": "9207763f",
   "metadata": {},
   "outputs": [],
   "source": [
    "def pattern_building():\n",
    "        n=int(input(\"enter a number: \"))\n",
    "        for i in range(1,n+1):\n",
    "            print(\" \"*(n-i) + i*\"* \")\n",
    "pattern_building()"
   ]
  },
  {
   "cell_type": "code",
   "execution_count": null,
   "id": "03e16f8b",
   "metadata": {},
   "outputs": [],
   "source": [
    "def print_star(n = 5, typ = 'mid',shape=\"LOL\"):\n",
    "  if typ  == 'left':\n",
    "    space  = ''\n",
    "\n",
    "  elif typ == 'right':\n",
    "    space = '  '\n",
    "\n",
    "  elif typ == 'mid':\n",
    "    space = ' '\n",
    "\n",
    "  for i in range(1,n+1):\n",
    "    print(space*(n-i) + i*f'{shape}')\n",
    "print_star()"
   ]
  },
  {
   "cell_type": "code",
   "execution_count": null,
   "id": "5174e1f9",
   "metadata": {},
   "outputs": [],
   "source": [
    "def sum(number):\n",
    "    result=0\n",
    "    for i in range(1,number+1):\n",
    "        result += i\n",
    "        print(result)\n",
    "sum(15)"
   ]
  },
  {
   "cell_type": "markdown",
   "id": "933cc5c1",
   "metadata": {},
   "source": [
    "Factorial\n"
   ]
  },
  {
   "cell_type": "code",
   "execution_count": null,
   "id": "fb03a861",
   "metadata": {},
   "outputs": [],
   "source": [
    "def factorial(n):\n",
    "    result=1\n",
    "    for i in range(1,n+1):\n",
    "        result *= i\n",
    "        print(result)\n",
    "factorial(3)"
   ]
  },
  {
   "cell_type": "code",
   "execution_count": null,
   "id": "c223553b",
   "metadata": {},
   "outputs": [],
   "source": [
    "def total_sales(*args):\n",
    "    result=0\n",
    "    for i in args:\n",
    "        result+=i\n",
    "    return result\n",
    "total_sales(1,2,54,123,678)"
   ]
  },
  {
   "cell_type": "code",
   "execution_count": null,
   "id": "60a6ca3c",
   "metadata": {},
   "outputs": [
    {
     "data": {
      "text/plain": [
       "11"
      ]
     },
     "execution_count": 74,
     "metadata": {},
     "output_type": "execute_result"
    }
   ],
   "source": [
    "sales=[45678,56,84,22,11]\n",
    "def mini(*args):\n",
    "    min_element=sales[0]\n",
    "    for i in sales[1:]:\n",
    "        if (i<min_element):\n",
    "            min_element=i\n",
    "    return min_element\n",
    "mini()\n"
   ]
  },
  {
   "cell_type": "code",
   "execution_count": 76,
   "id": "f067b65e",
   "metadata": {},
   "outputs": [
    {
     "data": {
      "text/plain": [
       "45678"
      ]
     },
     "execution_count": 76,
     "metadata": {},
     "output_type": "execute_result"
    }
   ],
   "source": [
    "def maxi(*args):\n",
    "    max_element=sales[4]\n",
    "    for i in sales[:4]:\n",
    "        if(i>max_element):\n",
    "            max_element=i\n",
    "    return max_element\n",
    "maxi()"
   ]
  },
  {
   "cell_type": "code",
   "execution_count": 95,
   "id": "71f3b941",
   "metadata": {},
   "outputs": [
    {
     "data": {
      "text/plain": [
       "['#OLA', '#UBER', '#TATA', '#ADANI']"
      ]
     },
     "execution_count": 95,
     "metadata": {},
     "output_type": "execute_result"
    }
   ],
   "source": [
    "company=[\"ola\",\"uber\",\"tata\",\"adani\"]\n",
    "def add_hashtag(*company):\n",
    "    result=[]\n",
    "    for i in company:\n",
    "        result.append(\"#\"+i.upper())\n",
    "    return result\n",
    "add_hashtag(*company)"
   ]
  },
  {
   "cell_type": "code",
   "execution_count": 111,
   "id": "7aa85017",
   "metadata": {},
   "outputs": [
    {
     "data": {
      "text/html": [
       "<div>\n",
       "<style scoped>\n",
       "    .dataframe tbody tr th:only-of-type {\n",
       "        vertical-align: middle;\n",
       "    }\n",
       "\n",
       "    .dataframe tbody tr th {\n",
       "        vertical-align: top;\n",
       "    }\n",
       "\n",
       "    .dataframe thead th {\n",
       "        text-align: right;\n",
       "    }\n",
       "</style>\n",
       "<table border=\"1\" class=\"dataframe\">\n",
       "  <thead>\n",
       "    <tr style=\"text-align: right;\">\n",
       "      <th></th>\n",
       "      <th>name</th>\n",
       "      <th>age</th>\n",
       "      <th>sec</th>\n",
       "      <th>Roll_no</th>\n",
       "      <th>Class</th>\n",
       "    </tr>\n",
       "  </thead>\n",
       "  <tbody>\n",
       "    <tr>\n",
       "      <th>0</th>\n",
       "      <td>shreeyansh</td>\n",
       "      <td>20</td>\n",
       "      <td>A</td>\n",
       "      <td>59</td>\n",
       "      <td>12</td>\n",
       "    </tr>\n",
       "  </tbody>\n",
       "</table>\n",
       "</div>"
      ],
      "text/plain": [
       "         name  age sec  Roll_no  Class\n",
       "0  shreeyansh   20   A       59     12"
      ]
     },
     "execution_count": 111,
     "metadata": {},
     "output_type": "execute_result"
    }
   ],
   "source": [
    "def store_records(name,age,sec,Roll_no,Class):\n",
    "    data={'name':name,'age':age,'sec':sec,'Roll_no':Roll_no,'Class':Class}\n",
    "    import pandas as pd\n",
    "    result=pd.DataFrame(data,index=[0])\n",
    "    return result\n",
    "store_records('shreeyansh',20,'A',59,12)"
   ]
  },
  {
   "cell_type": "code",
   "execution_count": 20,
   "id": "955a9b1a",
   "metadata": {},
   "outputs": [
    {
     "data": {
      "text/html": [
       "<div>\n",
       "<style scoped>\n",
       "    .dataframe tbody tr th:only-of-type {\n",
       "        vertical-align: middle;\n",
       "    }\n",
       "\n",
       "    .dataframe tbody tr th {\n",
       "        vertical-align: top;\n",
       "    }\n",
       "\n",
       "    .dataframe thead th {\n",
       "        text-align: right;\n",
       "    }\n",
       "</style>\n",
       "<table border=\"1\" class=\"dataframe\">\n",
       "  <thead>\n",
       "    <tr style=\"text-align: right;\">\n",
       "      <th></th>\n",
       "      <th>name</th>\n",
       "      <th>age</th>\n",
       "      <th>address</th>\n",
       "      <th>sec</th>\n",
       "    </tr>\n",
       "  </thead>\n",
       "  <tbody>\n",
       "    <tr>\n",
       "      <th>0</th>\n",
       "      <td>ajay</td>\n",
       "      <td>22</td>\n",
       "      <td>delhi</td>\n",
       "      <td>a</td>\n",
       "    </tr>\n",
       "    <tr>\n",
       "      <th>1</th>\n",
       "      <td>shreeyansh</td>\n",
       "      <td>20</td>\n",
       "      <td>mumbai</td>\n",
       "      <td>b</td>\n",
       "    </tr>\n",
       "  </tbody>\n",
       "</table>\n",
       "</div>"
      ],
      "text/plain": [
       "         name  age address sec\n",
       "0        ajay   22   delhi   a\n",
       "1  shreeyansh   20  mumbai   b"
      ]
     },
     "execution_count": 20,
     "metadata": {},
     "output_type": "execute_result"
    }
   ],
   "source": [
    "def store_records(**kwargs): #kwargs refers to dictionary\n",
    "    import pandas as pd\n",
    "    try:\n",
    "        data=pd.DataFrame(kwargs)\n",
    "        return data\n",
    "    except:\n",
    "        data=pd.DataFrame(kwargs,index=[1])\n",
    "        return data\n",
    "store_records(name=[\"ajay\",\"shreeyansh\"],age=[22,20],address=[\"delhi\",\"mumbai\"],sec=['a','b'])"
   ]
  }
 ],
 "metadata": {
  "kernelspec": {
   "display_name": "Python 3 (ipykernel)",
   "language": "python",
   "name": "python3"
  },
  "language_info": {
   "codemirror_mode": {
    "name": "ipython",
    "version": 3
   },
   "file_extension": ".py",
   "mimetype": "text/x-python",
   "name": "python",
   "nbconvert_exporter": "python",
   "pygments_lexer": "ipython3",
   "version": "3.13.5"
  }
 },
 "nbformat": 4,
 "nbformat_minor": 5
}
