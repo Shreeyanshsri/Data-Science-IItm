{
 "cells": [
  {
   "cell_type": "code",
   "execution_count": null,
   "id": "15f8cd3e-5759-468b-adb1-94e01c8d6b61",
   "metadata": {},
   "outputs": [],
   "source": [
    "# simple Inheritance(single)\n",
    "# Multiple Inheritance\n",
    "# Multilevel Inheritance\n",
    "# Hybrid Inheritance"
   ]
  },
  {
   "cell_type": "code",
   "execution_count": 2,
   "id": "10817514-991d-43b4-9fb6-a63b36b9f627",
   "metadata": {},
   "outputs": [],
   "source": [
    "#single inheritance\n",
    "class bmw:\n",
    "    def auto_turbo(self):\n",
    "        print(\"auto turbo\")\n",
    "\n",
    "class audi(bmw):\n",
    "    def auto_pilot(self):\n",
    "        print(\"auto pilot\")"
   ]
  },
  {
   "cell_type": "code",
   "execution_count": 7,
   "id": "e53162f1-a3a9-49d2-878d-b97a298362eb",
   "metadata": {},
   "outputs": [],
   "source": [
    "audi_r8=audi()"
   ]
  },
  {
   "cell_type": "code",
   "execution_count": 6,
   "id": "fa589d4a-4c71-43ad-9474-c1db4fb47818",
   "metadata": {},
   "outputs": [
    {
     "name": "stdout",
     "output_type": "stream",
     "text": [
      "auto pilot\n"
     ]
    }
   ],
   "source": [
    "audi_r8.auto_pilot()"
   ]
  },
  {
   "cell_type": "code",
   "execution_count": 8,
   "id": "88336f73-503e-4956-a9f2-e2a141abac39",
   "metadata": {},
   "outputs": [
    {
     "name": "stdout",
     "output_type": "stream",
     "text": [
      "auto turbo\n"
     ]
    }
   ],
   "source": [
    "audi_r8.auto_turbo()"
   ]
  },
  {
   "cell_type": "code",
   "execution_count": 37,
   "id": "99dc047a-27ee-4a63-9179-1736bd5e9d75",
   "metadata": {},
   "outputs": [],
   "source": [
    "#multiple inheritance\n",
    "class mobile:\n",
    "    pass\n",
    "\n",
    "class daily_object:\n",
    "    def phone_case(self):\n",
    "        print(\"stronge build case\")\n",
    "\n",
    "class JBL:\n",
    "    def sonic_speaker(self):\n",
    "        print(\"High quality Sound Speaker\")\n",
    "\n",
    "class Samsung:\n",
    "    def screen_display(self):\n",
    "        print(\"strong screen\")\n",
    "\n",
    "class Nvidia:\n",
    "    def motherboard(self):\n",
    "        print(\"fast\")\n",
    "\n",
    "class sony:\n",
    "    def camera(self):\n",
    "        print(\"50mp camera\")\n",
    "\n",
    "class Lava:\n",
    "  def charger(self):\n",
    "    print('SuperFast Charger')\n",
    "\n",
    "\n",
    "class One_Plus:\n",
    "  def charger(self):\n",
    "    print('Original Superfast Charger!!')\n",
    "\n",
    "class mobile(daily_object,JBL,Samsung,Nvidia,sony,One_Plus,Lava):\n",
    "    def __init__(self):\n",
    "        print(\"phone object created successfully\")\n",
    "    def charger(self):\n",
    "        print(\"cheetah hi kehde\")"
   ]
  },
  {
   "cell_type": "code",
   "execution_count": 38,
   "id": "000a53b4-f2f1-4366-b04d-fc360899f269",
   "metadata": {},
   "outputs": [
    {
     "name": "stdout",
     "output_type": "stream",
     "text": [
      "phone object created successfully\n"
     ]
    }
   ],
   "source": [
    "nothing=mobile()"
   ]
  },
  {
   "cell_type": "code",
   "execution_count": 14,
   "id": "14ffe311-5547-4ad1-ad2d-8dbd6601b55a",
   "metadata": {},
   "outputs": [
    {
     "name": "stdout",
     "output_type": "stream",
     "text": [
      "50mp camera\n"
     ]
    }
   ],
   "source": [
    "nothing.camera()"
   ]
  },
  {
   "cell_type": "code",
   "execution_count": 16,
   "id": "c98ff5bf-c1d6-4249-923a-758f12ec0627",
   "metadata": {},
   "outputs": [
    {
     "name": "stdout",
     "output_type": "stream",
     "text": [
      "fast\n"
     ]
    }
   ],
   "source": [
    "nothing.motherboard()"
   ]
  },
  {
   "cell_type": "code",
   "execution_count": 18,
   "id": "b55af269-595a-4a3c-a267-cbfd7bf3c77c",
   "metadata": {},
   "outputs": [
    {
     "name": "stdout",
     "output_type": "stream",
     "text": [
      "stronge build case\n"
     ]
    }
   ],
   "source": [
    "nothing.phone_case()"
   ]
  },
  {
   "cell_type": "code",
   "execution_count": 19,
   "id": "99061e2c-ecdf-4560-8803-3905d2a73181",
   "metadata": {},
   "outputs": [
    {
     "name": "stdout",
     "output_type": "stream",
     "text": [
      "strong screen\n"
     ]
    }
   ],
   "source": [
    "nothing.screen_display()"
   ]
  },
  {
   "cell_type": "code",
   "execution_count": 20,
   "id": "c7c51c27-00f9-41bf-928e-0976ea9793b6",
   "metadata": {},
   "outputs": [
    {
     "name": "stdout",
     "output_type": "stream",
     "text": [
      "High quality Sound Speaker\n"
     ]
    }
   ],
   "source": [
    "nothing.sonic_speaker()"
   ]
  },
  {
   "cell_type": "code",
   "execution_count": 39,
   "id": "ea291493-e792-4704-9943-b4d234065fae",
   "metadata": {},
   "outputs": [
    {
     "name": "stdout",
     "output_type": "stream",
     "text": [
      "cheetah hi kehde\n"
     ]
    }
   ],
   "source": [
    "nothing.charger()"
   ]
  },
  {
   "cell_type": "code",
   "execution_count": 41,
   "id": "a8c3e750-bc61-4543-981e-afe94c4d276f",
   "metadata": {},
   "outputs": [],
   "source": [
    "#multi level inheritance\n",
    "class GrandFather:\n",
    "    def land_property(self):\n",
    "        print(\"Land property\")\n",
    "\n",
    "class father(GrandFather):\n",
    "    def bank_balance(self):\n",
    "        print(\"big money player\")\n",
    "\n",
    "class son(father):\n",
    "    def political_power(self):\n",
    "        print(\"modi ji ka beta\")\n",
    "\n",
    "class Grandson(son):\n",
    "    def mind(self):\n",
    "        print(\"mind for self study\")\n",
    "\n",
    "class friend(Grandson):\n",
    "    def __init__(self):\n",
    "        print(\"nothing\")\n",
    "        \n",
    "    "
   ]
  },
  {
   "cell_type": "code",
   "execution_count": 43,
   "id": "41d4a6ad-88a0-418a-846c-d628f96eb3dd",
   "metadata": {},
   "outputs": [],
   "source": [
    "aman=Grandson()"
   ]
  },
  {
   "cell_type": "code",
   "execution_count": 44,
   "id": "bd475ebb-f6bb-4d38-82b2-4d4be0e294df",
   "metadata": {},
   "outputs": [
    {
     "name": "stdout",
     "output_type": "stream",
     "text": [
      "big money player\n"
     ]
    }
   ],
   "source": [
    "aman.bank_balance()"
   ]
  },
  {
   "cell_type": "code",
   "execution_count": 46,
   "id": "644be3f0-b7cc-4f7b-812c-65541cfe5f40",
   "metadata": {},
   "outputs": [
    {
     "name": "stdout",
     "output_type": "stream",
     "text": [
      "Land property\n"
     ]
    }
   ],
   "source": [
    "aman.land_property()"
   ]
  },
  {
   "cell_type": "code",
   "execution_count": 47,
   "id": "4f506fb9-9b01-436c-b6a0-df44cdad053b",
   "metadata": {},
   "outputs": [
    {
     "name": "stdout",
     "output_type": "stream",
     "text": [
      "mind for self study\n"
     ]
    }
   ],
   "source": [
    "aman.mind()"
   ]
  },
  {
   "cell_type": "code",
   "execution_count": 48,
   "id": "1ca46da3-0500-44b1-b8fb-9537f1e9e79b",
   "metadata": {},
   "outputs": [
    {
     "name": "stdout",
     "output_type": "stream",
     "text": [
      "modi ji ka beta\n"
     ]
    }
   ],
   "source": [
    "aman.political_power()"
   ]
  },
  {
   "cell_type": "code",
   "execution_count": 49,
   "id": "4b184b31-75d6-4c9f-94d4-994fde5853a9",
   "metadata": {},
   "outputs": [],
   "source": [
    "#hybrid inheritance\n",
    "class hybrid_class(audi,mobile,friend):\n",
    "    def __init__(self):\n",
    "        print(\"this is a hybrid class\")\n",
    "\n",
    "    def info(self):\n",
    "        print(\"it can call any methods\")"
   ]
  },
  {
   "cell_type": "code",
   "execution_count": 50,
   "id": "0b68e061-2e60-4b34-b4a0-a9f604edd504",
   "metadata": {},
   "outputs": [
    {
     "name": "stdout",
     "output_type": "stream",
     "text": [
      "this is a hybrid class\n"
     ]
    }
   ],
   "source": [
    "hc=hybrid_class()"
   ]
  },
  {
   "cell_type": "code",
   "execution_count": 51,
   "id": "8cd41e9f-cfee-401c-a9bd-96c6dbdbd61b",
   "metadata": {},
   "outputs": [],
   "source": [
    "#hierarchial inheritance\n",
    "class UGC:  # Parent Class\n",
    "  def __init__(self):\n",
    "    print('Grant Permission')\n",
    "  def college_approved(self):\n",
    "    print('College Has been Approved')\n",
    "\n",
    "class DU(UGC):\n",
    "  def multiple_colleges(self):\n",
    "    print('List of Colleges!!')\n",
    "\n",
    "class IP(UGC):\n",
    "  def multiple_colleges(self):\n",
    "    print('List of Colleges!!')\n",
    "\n",
    "\n",
    "class DTU(UGC):\n",
    "  def multiple_colleges(self):\n",
    "    print('List of Colleges!!')\n",
    "\n",
    "class BHU(UGC):\n",
    "  def multiple_colleges(self):\n",
    "    print('List of Colleges!!')"
   ]
  },
  {
   "cell_type": "code",
   "execution_count": 53,
   "id": "d98ec7d5-81c5-418a-ac9c-001a8a3b7168",
   "metadata": {},
   "outputs": [
    {
     "name": "stdout",
     "output_type": "stream",
     "text": [
      "45 <class 'str'>\n"
     ]
    }
   ],
   "source": [
    "#polymorphism\n",
    "#overriding-same name same parameters in different classes and the child class overrides the parent class.\n",
    "a = 45\n",
    "a = '45'\n",
    "a =print(a,type(a))\n",
    "\n"
   ]
  },
  {
   "cell_type": "code",
   "execution_count": 2,
   "id": "fc578ece-0095-4185-9274-760eec44ee02",
   "metadata": {},
   "outputs": [
    {
     "name": "stdout",
     "output_type": "stream",
     "text": [
      "max speed 200km/hr\n",
      "f1 car speed None\n",
      "max speed 200km/hr\n",
      "f1 car speed None\n",
      "Max speed 350 km/hr\n",
      "f1 car speed None\n"
     ]
    }
   ],
   "source": [
    "class Car:\n",
    "    def speed(self):\n",
    "        print(\"max speed 200km/hr\")\n",
    "    def auto_pilot(self):\n",
    "        print(\"it supports auto pilot mode\")\n",
    "    def info(self):\n",
    "        print(\"this is just a car object\")\n",
    "\n",
    "class bmw(Car):\n",
    "    def spedd(self):\n",
    "        print('max speed 300 km/hr')\n",
    "    def info(self):\n",
    "        print(\"a bmw car object\")\n",
    "\n",
    "class Audi(Car):\n",
    "  def speed(self):\n",
    "    print('Max speed 350 km/hr')\n",
    "\n",
    "  def info(self):\n",
    "    print('Audi car🏎️')\n",
    "\n",
    "for i in [Car,bmw,Audi]:\n",
    "    f1=i()\n",
    "    print(\"f1 car speed\",f1.speed())\n",
    "    "
   ]
  },
  {
   "cell_type": "code",
   "execution_count": 3,
   "id": "159ee4ae-66d2-49f6-85b9-6d27efb5d03e",
   "metadata": {},
   "outputs": [
    {
     "name": "stdout",
     "output_type": "stream",
     "text": [
      "max speed 200km/hr\n",
      "None\n"
     ]
    }
   ],
   "source": [
    "f1=Car()\n",
    "print(f1.speed())"
   ]
  },
  {
   "cell_type": "code",
   "execution_count": 4,
   "id": "f0b0c327-b71d-476a-a6b0-ec9ec19c71cd",
   "metadata": {},
   "outputs": [
    {
     "name": "stdout",
     "output_type": "stream",
     "text": [
      "max speed 200km/hr\n",
      "None\n"
     ]
    }
   ],
   "source": [
    "f1=bmw()\n",
    "print(f1.speed())"
   ]
  },
  {
   "cell_type": "code",
   "execution_count": 6,
   "id": "9d473d73-f9f3-4d11-9f4f-a4976eb69232",
   "metadata": {},
   "outputs": [
    {
     "name": "stdout",
     "output_type": "stream",
     "text": [
      "Max speed 350 km/hr\n",
      "None\n"
     ]
    }
   ],
   "source": [
    "f1=Audi()\n",
    "print(f1.speed())"
   ]
  },
  {
   "cell_type": "markdown",
   "id": "59831723-dc8b-44f6-a4ed-eb57456eb8d6",
   "metadata": {},
   "source": [
    "method overloading"
   ]
  },
  {
   "cell_type": "code",
   "execution_count": 12,
   "id": "535d300d-38e1-4128-afee-91be9983e644",
   "metadata": {},
   "outputs": [],
   "source": [
    "class IITM:\n",
    "  def intro(self):\n",
    "    print('Hello Candidates!!')\n",
    "\n",
    "  def intro(self,name):\n",
    "    print(f'Hello {name},how are you??')\n",
    "\n",
    "  def intro(self,name,address):\n",
    "    print(f'Hello {name},how are you??')\n",
    "    print(f'Your Address is {address}')    \n",
    "    \n",
    "obj=IITM()"
   ]
  },
  {
   "cell_type": "code",
   "execution_count": 13,
   "id": "ea531f55-90c8-4fee-b03e-8320736eafef",
   "metadata": {},
   "outputs": [
    {
     "name": "stdout",
     "output_type": "stream",
     "text": [
      "Hello Shreeyansh,how are you??\n",
      "Your Address is palam\n"
     ]
    }
   ],
   "source": [
    "obj.intro(\"Shreeyansh\",\"palam\")"
   ]
  },
  {
   "cell_type": "code",
   "execution_count": 32,
   "id": "09f90606-4f74-4482-8a4d-7070d11b3c2b",
   "metadata": {},
   "outputs": [],
   "source": [
    "class IITM:\n",
    "    def intro(self,name=None,address=None):\n",
    "        if(name==None) and (address==None):\n",
    "            print(\"hello candidates\")\n",
    "        elif name!=None and (address==None):\n",
    "            print(f\"hello {name}, how are you?\")\n",
    "        \n",
    "        elif (name==None) and (address!=None):\n",
    "            print(f\"hello {name},how are you??\")\n",
    "            print(f\"your address is {address}\")\n",
    "        else:\n",
    "            print(\"hello buddy\")\n",
    "\n",
    "obj=IITM()\n"
   ]
  },
  {
   "cell_type": "code",
   "execution_count": 17,
   "id": "b117bccf-7872-4637-82a4-6f8753154057",
   "metadata": {},
   "outputs": [
    {
     "name": "stdout",
     "output_type": "stream",
     "text": [
      "hello candidates\n"
     ]
    }
   ],
   "source": [
    "obj.intro()"
   ]
  },
  {
   "cell_type": "code",
   "execution_count": 18,
   "id": "22e26020-455c-40ce-8c1e-581dac1196d4",
   "metadata": {},
   "outputs": [
    {
     "name": "stdout",
     "output_type": "stream",
     "text": [
      "hello shreeyansh, how are you?\n"
     ]
    }
   ],
   "source": [
    "obj.intro(\"shreeyansh\")"
   ]
  },
  {
   "cell_type": "code",
   "execution_count": 33,
   "id": "6592a095-e512-4a34-b608-e4925f4b750f",
   "metadata": {},
   "outputs": [
    {
     "name": "stdout",
     "output_type": "stream",
     "text": [
      "hello None,how are you??\n",
      "your address is palam\n"
     ]
    }
   ],
   "source": [
    "obj.intro(address=\"palam\")"
   ]
  },
  {
   "cell_type": "code",
   "execution_count": 13,
   "id": "157a2124-2fe3-4fbd-a336-48abd6cc2579",
   "metadata": {},
   "outputs": [],
   "source": [
    "#abstraction\n",
    "from abc import ABC,abstractmethod\n",
    "class website(ABC):\n",
    "    @abstractmethod\n",
    "    def login():\n",
    "        print(\"this is login method\")\n",
    "    @abstractmethod\n",
    "    def logout(self):\n",
    "        print(\"this is logout method\")\n",
    "\n",
    "class Nakul(website):\n",
    "\n",
    "  def signup(self):\n",
    "    print('user can Signup!!')\n",
    "\n",
    "  def login(self):\n",
    "    print('This is a Login  Form')\n",
    "\n",
    "  def logout(self):\n",
    "    print('User can logut')\n",
    "\n",
    "google = Nakul()\n"
   ]
  },
  {
   "cell_type": "code",
   "execution_count": 10,
   "id": "0b0703da-388a-4024-bd92-4bd7d8094c96",
   "metadata": {},
   "outputs": [
    {
     "name": "stdout",
     "output_type": "stream",
     "text": [
      "This is a Login  Form\n"
     ]
    }
   ],
   "source": [
    "google.login()"
   ]
  },
  {
   "cell_type": "code",
   "execution_count": 14,
   "id": "9ac27e04-6358-41f6-a75e-5b987574d5db",
   "metadata": {},
   "outputs": [
    {
     "name": "stdout",
     "output_type": "stream",
     "text": [
      "User can logut\n"
     ]
    }
   ],
   "source": [
    "google.logout()"
   ]
  },
  {
   "cell_type": "code",
   "execution_count": 12,
   "id": "045a7335-a6bf-4e6c-adac-8d0d9f767135",
   "metadata": {},
   "outputs": [
    {
     "name": "stdout",
     "output_type": "stream",
     "text": [
      "user can Signup!!\n"
     ]
    }
   ],
   "source": [
    "google.signup()"
   ]
  },
  {
   "cell_type": "code",
   "execution_count": null,
   "id": "9c516e3a-ecff-4de1-8545-d8bcc1431752",
   "metadata": {},
   "outputs": [],
   "source": []
  }
 ],
 "metadata": {
  "kernelspec": {
   "display_name": "Python 3 (ipykernel)",
   "language": "python",
   "name": "python3"
  },
  "language_info": {
   "codemirror_mode": {
    "name": "ipython",
    "version": 3
   },
   "file_extension": ".py",
   "mimetype": "text/x-python",
   "name": "python",
   "nbconvert_exporter": "python",
   "pygments_lexer": "ipython3",
   "version": "3.13.5"
  }
 },
 "nbformat": 4,
 "nbformat_minor": 5
}
