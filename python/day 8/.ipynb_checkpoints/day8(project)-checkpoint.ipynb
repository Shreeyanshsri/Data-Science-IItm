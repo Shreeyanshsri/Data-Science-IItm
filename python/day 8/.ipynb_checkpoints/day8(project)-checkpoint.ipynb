{
 "cells": [
  {
   "cell_type": "code",
   "execution_count": null,
   "id": "928ed068-d9b5-44a7-b351-9d21fe460bc7",
   "metadata": {},
   "outputs": [],
   "source": [
    "# Python Webscraping Project\n",
    "# Scrap Website\n",
    "# Store data in database"
   ]
  },
  {
   "cell_type": "code",
   "execution_count": null,
   "id": "5cd90a8b-0278-476b-9920-e1316bbd55bb",
   "metadata": {
    "panel-layout": {
     "height": 0,
     "visible": true,
     "width": 100
    }
   },
   "outputs": [],
   "source": [
    "import requests as r\n",
    "url=\"https://en.wikipedia.org/wiki/List_of_Indians_by_net_worth\"\n",
    "response=r.get(url)\n",
    "html_data=response.content\n",
    "print(html_data)"
   ]
  },
  {
   "cell_type": "code",
   "execution_count": null,
   "id": "47e3f46d-b098-482c-a67b-50f1ce59f7ce",
   "metadata": {},
   "outputs": [],
   "source": [
    "pip install beautifulsoup4"
   ]
  },
  {
   "cell_type": "code",
   "execution_count": null,
   "id": "8e55310c-a5c6-4953-9229-29eb8c6fd845",
   "metadata": {
    "panel-layout": {
     "height": 0,
     "visible": true,
     "width": 100
    }
   },
   "outputs": [],
   "source": [
    "from bs4 import BeautifulSoup\n",
    "soup=BeautifulSoup(html_data)\n",
    "print(\"done\")"
   ]
  },
  {
   "cell_type": "code",
   "execution_count": null,
   "id": "8421ada1-67ac-4e64-ad6b-3fa7ba77bd0e",
   "metadata": {},
   "outputs": [],
   "source": [
    "all_data=[]\n",
    "for index_no,value in enumerate(soup.find_all('tr')):\n",
    "    if 0<=index_no<=24:\n",
    "        #print(index_no,value.text)\n",
    "        temp_data=value.text.splitlines()\n",
    "\n",
    "        while '' in temp_data:\n",
    "            temp_data.remove('')\n",
    "\n",
    "        all_data.append(temp_data)"
   ]
  },
  {
   "cell_type": "code",
   "execution_count": null,
   "id": "fb7ba126-86a0-4fe3-b874-fa7e4ea5cf3d",
   "metadata": {},
   "outputs": [],
   "source": [
    "import pandas as pd\n",
    "pd.DataFrame(all_data)"
   ]
  },
  {
   "cell_type": "code",
   "execution_count": null,
   "id": "c3ecebfb-bc19-4243-9d9a-37b2c317170a",
   "metadata": {},
   "outputs": [],
   "source": [
    "final_column=[\"Rank\",\"Name\",\"Net worth\",\"Company Name\",\"Source of Wealth\",\"None\",\"None\"]\n",
    "final_data=all_data[1:]\n",
    "df=pd.DataFrame(final_data,columns=final_column)\n",
    "final_df=df.drop(\"None\",axis=1)\n",
    "final_df.to_excel(\"rich_list_indian.xlsx\")\n",
    "print(\"done\")"
   ]
  },
  {
   "cell_type": "code",
   "execution_count": null,
   "id": "df812d51-6475-4410-8ef2-e653656b4725",
   "metadata": {},
   "outputs": [],
   "source": [
    "import pymysql as py\n",
    "conn=py.connect(host=\"localhost\",\n",
    "               user=\"root\",\n",
    "               password=\"Puru@10012005\",\n",
    "               autocommit=True)\n",
    "cur=conn.cursor()\n",
    "print(\"done\")"
   ]
  },
  {
   "cell_type": "code",
   "execution_count": null,
   "id": "171c32a2",
   "metadata": {},
   "outputs": [],
   "source": [
    "query=\"create database wiki\"\n",
    "cur.execute(query)\n",
    "print(\"done\")"
   ]
  },
  {
   "cell_type": "code",
   "execution_count": null,
   "id": "0b154332",
   "metadata": {},
   "outputs": [],
   "source": [
    "list(final_df.columns)"
   ]
  },
  {
   "cell_type": "code",
   "execution_count": null,
   "id": "d6e591ac",
   "metadata": {},
   "outputs": [],
   "source": [
    "table_column = ['rich_' + i.replace(' ','_').replace('(USD)','US_Dollar')  for i in final_df.columns]\n",
    "table_column"
   ]
  },
  {
   "cell_type": "code",
   "execution_count": null,
   "id": "a3d0fbfa",
   "metadata": {},
   "outputs": [],
   "source": [
    "query_part=' varchar(255),'.join(table_column)+' varchar(255)'"
   ]
  },
  {
   "cell_type": "code",
   "execution_count": null,
   "id": "ecf6af16",
   "metadata": {},
   "outputs": [],
   "source": [
    "query='''create table wiki.rich_list_indian (''' + query_part +');'\n",
    "print(query)\n",
    "cur.execute(query)\n",
    "print(\"done\")"
   ]
  },
  {
   "cell_type": "code",
   "execution_count": null,
   "id": "4a6e685e",
   "metadata": {},
   "outputs": [],
   "source": [
    "#insert data\n",
    "for i in final_df.itertuples():\n",
    "    value=tuple(i[1:])\n",
    "    query=f'''insert into wiki.rich_list_indian values {value};'''\n",
    "    print(query)\n",
    "    cur.execute(query)\n",
    "    print(\"done\")"
   ]
  }
 ],
 "metadata": {
  "kernelspec": {
   "display_name": "base",
   "language": "python",
   "name": "python3"
  },
  "language_info": {
   "codemirror_mode": {
    "name": "ipython",
    "version": 3
   },
   "file_extension": ".py",
   "mimetype": "text/x-python",
   "name": "python",
   "nbconvert_exporter": "python",
   "pygments_lexer": "ipython3",
   "version": "3.13.5"
  },
  "panel-cell-order": [
   "5cd90a8b-0278-476b-9920-e1316bbd55bb",
   "8e55310c-a5c6-4953-9229-29eb8c6fd845"
  ]
 },
 "nbformat": 4,
 "nbformat_minor": 5
}
