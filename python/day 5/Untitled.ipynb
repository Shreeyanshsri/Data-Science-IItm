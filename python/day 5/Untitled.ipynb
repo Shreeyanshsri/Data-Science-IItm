{
 "cells": [
  {
   "cell_type": "code",
   "execution_count": null,
   "id": "3f3abdee-0090-4493-b76f-d98183f0db22",
   "metadata": {},
   "outputs": [],
   "source": []
  }
 ],
 "metadata": {
  "kernelspec": {
   "display_name": "",
   "name": ""
  },
  "language_info": {
   "name": ""
  }
 },
 "nbformat": 4,
 "nbformat_minor": 5
}
