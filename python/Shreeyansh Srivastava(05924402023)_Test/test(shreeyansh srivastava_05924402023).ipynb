{
 "cells": [
  {
   "cell_type": "markdown",
   "id": "9bdb79eb",
   "metadata": {},
   "source": [
    "\n",
    "TEST\n"
   ]
  },
  {
   "cell_type": "code",
   "execution_count": null,
   "id": "893a9680",
   "metadata": {},
   "outputs": [
    {
     "name": "stdout",
     "output_type": "stream",
     "text": [
      "[1, 2, 3, 4, 5, 'shreeyansh']\n",
      "(1, 2, 3, 4, 5)\n"
     ]
    }
   ],
   "source": [
    "# list uses [](square brackets) to enclose data and tupple uses ()(round brackets) to enclose data\n",
    "# list is mutable and tupple is immutable\n",
    "#for ex:\n",
    "l1=[1,2,3,4,5,\"shreeyansh\"]\n",
    "tup=(1,2,3,4,5)\n",
    "print(l1)\n",
    "print(tup)\n"
   ]
  },
  {
   "cell_type": "code",
   "execution_count": null,
   "id": "9fc9b07c",
   "metadata": {},
   "outputs": [
    {
     "name": "stdout",
     "output_type": "stream",
     "text": [
      "78\n",
      "<class 'str'>\n",
      "78\n",
      "<class 'int'>\n"
     ]
    }
   ],
   "source": [
    "#ans-\n",
    "a=input(\"enter your name\")\n",
    "print((a))\n",
    "print(type(a))\n",
    "#it return string as default output.\n",
    "#to convert it into integer-\n",
    "b=int(a)\n",
    "print(b)\n",
    "print(type(b))"
   ]
  },
  {
   "cell_type": "code",
   "execution_count": null,
   "id": "50d42ce2",
   "metadata": {},
   "outputs": [
    {
     "name": "stdout",
     "output_type": "stream",
     "text": [
      "{'Name': ['shreeyansh', 'akshat'], 'age': [20, 20]}\n",
      "<class 'dict'>\n"
     ]
    }
   ],
   "source": [
    "#ans- dictionaries in python are used to enclose data in key value pairs.\n",
    "dict={'Name':['shreeyansh','akshat'],'age':[20,20]}\n",
    "print(dict)\n",
    "print(type(dict))"
   ]
  },
  {
   "cell_type": "code",
   "execution_count": null,
   "id": "f3c77e52",
   "metadata": {},
   "outputs": [
    {
     "name": "stdout",
     "output_type": "stream",
     "text": [
      "0\n",
      "1\n",
      "2\n",
      "3\n",
      "4\n",
      "5\n"
     ]
    }
   ],
   "source": [
    "#ans- for loop helps to iterate a code again and again until the condition is met.\n",
    "a=range(0,6)\n",
    "for i in a:\n",
    "    print(i)"
   ]
  },
  {
   "cell_type": "code",
   "execution_count": 15,
   "id": "c4b58d30",
   "metadata": {},
   "outputs": [
    {
     "name": "stdout",
     "output_type": "stream",
     "text": [
      "number is less than 10\n",
      "done\n"
     ]
    }
   ],
   "source": [
    "#ans- exception handling in python is used when an error is anticipated and if it occurs then what measures will be taken.\n",
    "a=int(input(\"enter a number\"))\n",
    "try:\n",
    "    if a < 10:\n",
    "        print(\"number is less than 10\")\n",
    "except:\n",
    "    print(\"number is greater than 10\")\n",
    "finally:\n",
    "    print(\"done\")\n"
   ]
  },
  {
   "cell_type": "code",
   "execution_count": null,
   "id": "424d8b32",
   "metadata": {},
   "outputs": [
    {
     "name": "stdout",
     "output_type": "stream",
     "text": [
      "22.360679774997898\n"
     ]
    }
   ],
   "source": [
    "# python modules are can be user defines and pre exisiting \n",
    "# user defined modules consist of fuctions created by user which can be imported to another file and used like greet()\n",
    "# pre exisiting modules consist of functions which are inbuit like pandas, numpy ,random etc\n",
    "import math as m\n",
    "a=10\n",
    "b=20\n",
    "c=m.sqrt(a**2 + b**2)\n",
    "d=m.\n",
    "print(c)\n",
    "#importing math as a whole modules gives us all the functions inside the math module\n"
   ]
  },
  {
   "cell_type": "code",
   "execution_count": 21,
   "id": "57d7fe6b",
   "metadata": {},
   "outputs": [
    {
     "name": "stdout",
     "output_type": "stream",
     "text": [
      "3.1622776601683795\n"
     ]
    }
   ],
   "source": [
    "from math import sqrt \n",
    "d=m.sqrt(a)\n",
    "print(d)"
   ]
  },
  {
   "cell_type": "code",
   "execution_count": 25,
   "id": "f77011f3",
   "metadata": {},
   "outputs": [
    {
     "name": "stdout",
     "output_type": "stream",
     "text": [
      "this was fun\n"
     ]
    }
   ],
   "source": [
    "#OOPS in python\n",
    "# OOPS stands for Object Oriented Programming System\n",
    "# it uses objects and classes to structure the code\n",
    "# it allows for encapsulation, inheritance, and polymorphism and abstraction\n",
    "class a:\n",
    "    def fun():\n",
    "        print(\"this was fun\")\n",
    "class b(a):\n",
    "    obj=a.fun()"
   ]
  },
  {
   "cell_type": "code",
   "execution_count": 26,
   "id": "0cb2dfc1",
   "metadata": {},
   "outputs": [
    {
     "name": "stdout",
     "output_type": "stream",
     "text": [
      "[0, 4, 8, 12, 16]\n"
     ]
    }
   ],
   "source": [
    "# result = []\n",
    "# for x in range(10):\n",
    "# if x % 2 == 0:\n",
    "# result.append(x * 2)\n",
    "# #list comprehension for this program\n",
    "result = [x * 2 for x in range(10) if x % 2 == 0]\n",
    "print(result)"
   ]
  },
  {
   "cell_type": "code",
   "execution_count": 28,
   "id": "65f5413f",
   "metadata": {},
   "outputs": [
    {
     "data": {
      "text/plain": [
       "78.5"
      ]
     },
     "execution_count": 28,
     "metadata": {},
     "output_type": "execute_result"
    }
   ],
   "source": [
    "π=3.14\n",
    "def calculate_area(r):\n",
    "    area= π * r**2\n",
    "    return area\n",
    "\n",
    "calculate_area(5)"
   ]
  },
  {
   "cell_type": "code",
   "execution_count": 29,
   "id": "b0b1ecb1",
   "metadata": {},
   "outputs": [
    {
     "name": "stdout",
     "output_type": "stream",
     "text": [
      "Hello shreeyansh,you are 20 years old\n"
     ]
    }
   ],
   "source": [
    "name=input(\"enter a name:\")\n",
    "age=int(input(\"enter your age:\"))\n",
    "print(f\"Hello {name},you are {age} years old\")"
   ]
  },
  {
   "cell_type": "code",
   "execution_count": 32,
   "id": "d6a81811",
   "metadata": {},
   "outputs": [
    {
     "name": "stdout",
     "output_type": "stream",
     "text": [
      "1 apple\n",
      "2 banana\n",
      "3 cherry\n",
      "4 date\n",
      "5 elderberry\n"
     ]
    }
   ],
   "source": [
    "fruits = [\"apple\", \"banana\", \"cherry\", \"date\", \"elderberry\"]\n",
    "for index, fruit in enumerate(fruits, start=1):\n",
    "    print(f\"{index} {fruit}\")"
   ]
  },
  {
   "cell_type": "code",
   "execution_count": 37,
   "id": "ee0d8d64",
   "metadata": {},
   "outputs": [
    {
     "name": "stdout",
     "output_type": "stream",
     "text": [
      "your grade is B\n",
      "your grade is A\n",
      "your grade is D\n"
     ]
    }
   ],
   "source": [
    "def grade_calculator(marks):\n",
    "    if marks >= 90 and marks <=100:\n",
    "        print(\"your grade is A\")\n",
    "    elif marks <90 and marks >= 80:\n",
    "        print(\"your grade is B\")\n",
    "    elif marks <80 and marks >= 70:\n",
    "        print(\"your grade is C\")\n",
    "    elif marks <70 and marks >= 60:\n",
    "        print(\"your grade is D\")\n",
    "    else:\n",
    "        print(\"your grade is F\")\n",
    "\n",
    "grade_calculator(80)\n",
    "grade_calculator(99)\n",
    "grade_calculator(60)"
   ]
  },
  {
   "cell_type": "code",
   "execution_count": 41,
   "id": "2264b262",
   "metadata": {},
   "outputs": [],
   "source": [
    "#q13-"
   ]
  },
  {
   "cell_type": "code",
   "execution_count": 45,
   "id": "bdf47004",
   "metadata": {},
   "outputs": [
    {
     "name": "stdout",
     "output_type": "stream",
     "text": [
      "Current balance for Shreeyansh: 1000\n",
      "Deposited: 1000. New balance: 2000\n",
      "Withdrew: 500. New balance: 1500\n"
     ]
    }
   ],
   "source": [
    "# #q14-\n",
    "class BankAccount:\n",
    "    def __init__(self, holder_name, starting_balance):\n",
    "        self.holder_name = holder_name\n",
    "        self.balance = starting_balance\n",
    "\n",
    "    def deposit(self, amount):\n",
    "        self.balance += amount\n",
    "        print(f\"Deposited: {amount}. New balance: {self.balance}\")\n",
    "\n",
    "    def withdraw(self, amount):\n",
    "        if amount <= self.balance:\n",
    "            self.balance -= amount\n",
    "            print(f\"Withdrew: {amount}. New balance: {self.balance}\")\n",
    "        else:\n",
    "            print(\"Insufficient balance!\")\n",
    "\n",
    "    def display_balance(self):\n",
    "        print(f\"Current balance for {self.holder_name}: {self.balance}\")\n",
    "\n",
    "account = BankAccount(\"Shreeyansh\", 1000)\n",
    "account.display_balance()\n",
    "account.deposit(1000)\n",
    "account.withdraw(500)\n"
   ]
  },
  {
   "cell_type": "code",
   "execution_count": 50,
   "id": "980c5835",
   "metadata": {},
   "outputs": [
    {
     "data": {
      "text/plain": [
       "True"
      ]
     },
     "execution_count": 50,
     "metadata": {},
     "output_type": "execute_result"
    }
   ],
   "source": [
    "# #q15-\n",
    "def prime(num):\n",
    "    if num < 2:\n",
    "        return False\n",
    "    for i in range(2, int(num**0.5) + 1):\n",
    "        if num % i == 0:\n",
    "            return False\n",
    "    return True\n",
    "prime(5)"
   ]
  }
 ],
 "metadata": {
  "kernelspec": {
   "display_name": "base",
   "language": "python",
   "name": "python3"
  },
  "language_info": {
   "codemirror_mode": {
    "name": "ipython",
    "version": 3
   },
   "file_extension": ".py",
   "mimetype": "text/x-python",
   "name": "python",
   "nbconvert_exporter": "python",
   "pygments_lexer": "ipython3",
   "version": "3.13.5"
  }
 },
 "nbformat": 4,
 "nbformat_minor": 5
}
