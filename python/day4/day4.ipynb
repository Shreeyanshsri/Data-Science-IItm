{
 "cells": [
  {
   "cell_type": "markdown",
   "id": "a0621a96-4cf4-43d5-b4b2-364c73fff54e",
   "metadata": {},
   "source": [
    "# File Handling Part 2\n",
    "# Requests Module Example\n",
    "# OOPs and Pillars\n",
    "# Python to DB Connectivity!!"
   ]
  },
  {
   "cell_type": "code",
   "execution_count": 5,
   "id": "9b24e99e-039f-415f-923a-5df298accd05",
   "metadata": {},
   "outputs": [
    {
     "name": "stdout",
     "output_type": "stream",
     "text": [
      "['https://thesportstak.com/amp/wwe/story/released-wwe-star-makes-stunning-confession-about-roman-reigns-quit-btching-3184999-2025-07-07\\n', 'https://en.wikipedia.org/wiki/Roman_Reigns\\n', 'http://google.com/search?tbm=isch&q=Joe+%22Roman+Reigns%22+Anoa%27i\\n', 'https://www.instagram.com/romanreigns/?hl=en\\n', 'https://x.com/wweromanreigns?lang=en\\n', 'http://www.wwe.com/superstars/roman-reigns\\n', 'https://www.reddit.com/r/SquaredCircle/comments/1lsob04/karl_anderson_roman_reigns_once_said_get_it/\\n', 'https://bleacherreport.com/articles/25223301-fresh-feuds-roman-reigns-return-wwe-wrestlemania-41-hiatus\\n', 'https://www.youtube.com/watch?v=VAyIlwW5bqc\\n', 'https://en.wikipedia.org/wiki/Public_image_of_Roman_Reigns\\n']\n"
     ]
    }
   ],
   "source": [
    "from googlesearch import search\n",
    "#file created with mode w,its data can be overridden\n",
    "title=\"roman reigns\"\n",
    "search(title,num_results=10)\n",
    "data=list(search(title))\n",
    "all_data=[]\n",
    "for i in data:\n",
    "    all_data.append(i+'\\n')\n",
    "print(all_data)\n",
    "f=open(f\"{title}.txt\",mode=\"w\")\n",
    "f.writelines(all_data)\n",
    "f.close()"
   ]
  },
  {
   "cell_type": "code",
   "execution_count": 4,
   "id": "b7407655-42d6-462b-bd3a-af1af3e51d9c",
   "metadata": {},
   "outputs": [
    {
     "name": "stdout",
     "output_type": "stream",
     "text": [
      "['https://en.wikipedia.org/wiki/Marty_Byrde\\n', 'https://ozark-netflix.fandom.com/wiki/Marty_Byrde\\n', 'https://en.wikipedia.org/wiki/Marty_Byrde\\n', '/search?num=12\\n', 'https://www.reddit.com/r/Ozark/comments/t4eyp3/spoilers_your_opinion_of_marty_byrde/\\n', 'https://villains.fandom.com/wiki/Marty_Byrde\\n', 'https://medium.com/illuminations-mirror/clash-of-the-titans-breaking-bads-walter-white-vs-ozark-s-marty-byrde-d26d7d224bc6\\n', 'https://en.wikipedia.org/wiki/Ozark_(TV_series)\\n', 'https://www.imdb.com/title/tt5770168/characters/nm0000867\\n', 'https://www.northrow.com/blog/what-can-we-learn-about-money-laundering-from-ozark\\n']\n"
     ]
    }
   ],
   "source": [
    "from googlesearch import search\n",
    "#mode x only creates new file\n",
    "title=\"MARTY BYRDE\"\n",
    "search(title,num_results=10)\n",
    "data=list(search(title))\n",
    "all_data=[]\n",
    "for i in data:\n",
    "    all_data.append(i+'\\n')\n",
    "print(all_data)\n",
    "f=open(f\"{title}.txt\",mode=\"x\")\n",
    "f.writelines(all_data)\n",
    "f.close()"
   ]
  },
  {
   "cell_type": "code",
   "execution_count": 13,
   "id": "b6f657f5-6219-4736-9f8f-acd4416037fb",
   "metadata": {},
   "outputs": [
    {
     "name": "stdout",
     "output_type": "stream",
     "text": [
      "done\n"
     ]
    }
   ],
   "source": [
    "#mode 'a' creates a file with data if the file does not exist already and if it exists it appends data into that file\n",
    "from googlesearch import search\n",
    "title=\"itachi uchiha\"\n",
    "search(title,num_results=5)\n",
    "data=list(search(title))\n",
    "all_data=[]\n",
    "for i in data:\n",
    "    all_data.append(i+'\\n')\n",
    "f=open(f\"{title}.txt\",mode=\"a\")\n",
    "f.write('++++++++++++++++++++++++++++++++++++++++++++++++++++++++++++++++++++++++++++++++++++++++++++++++++++++++++++++++\\n')\n",
    "f.writelines(all_data)\n",
    "f.close()\n",
    "print('done')"
   ]
  },
  {
   "cell_type": "code",
   "execution_count": 20,
   "id": "ddf2874c-84c8-447d-9e4c-4acb86fe03c8",
   "metadata": {},
   "outputs": [
    {
     "name": "stdout",
     "output_type": "stream",
     "text": [
      "++++++++++++++++++++++++++++++++++++++++++++++++++++++++++++++++++++++++++++++++++++++++++++++++++++++++++++++++\n",
      "https://naruto.fandom.com/wiki/Itachi_Uchiha\n",
      "https://naruto.fandom.com/wiki/Itachi_Uchiha\n",
      "https://en.wikipedia.org/wiki/Itachi_Uchiha\n",
      "https://in.pinterest.com/pin/itachi-uchiha--486248091030514734/\n",
      "https://www.flipkart.com/itachi-uchiha-naruto-frames-posters-anime-paper-print/p/itm080f879bf6b3b\n",
      "https://www.reddit.com/r/Naruto/comments/1l7lcv2/what_was_the_fandoms_opinion_of_uchiha_itachi/\n",
      "https://in.pinterest.com/6059ajay/itachi/\n",
      "https://www.youtube.com/shorts/-gk2SJLXVOU\n",
      "https://www.amazon.in/SINCE-STORE-Itachi-Uchiha-Products/dp/B0CJMZGHDM\n",
      "https://www.youtube.com/watch?v=4D6as7R0OGM\n",
      "++++++++++++++++++++++++++++++++++++++++++++++++++++++++++++++++++++++++++++++++++++++++++++++++++++++++++++++++\n",
      "https://naruto.fandom.com/wiki/Itachi_Uchiha\n",
      "https://naruto.fandom.com/wiki/Itachi_Uchiha\n",
      "https://en.wikipedia.org/wiki/Itachi_Uchiha\n",
      "https://in.pinterest.com/pin/itachi-uchiha--486248091030514734/\n",
      "https://www.flipkart.com/itachi-uchiha-naruto-frames-posters-anime-paper-print/p/itm080f879bf6b3b\n",
      "https://www.reddit.com/r/Naruto/comments/1l7lcv2/what_was_the_fandoms_opinion_of_uchiha_itachi/\n",
      "https://in.pinterest.com/6059ajay/itachi/\n",
      "https://www.youtube.com/shorts/-gk2SJLXVOU\n",
      "https://www.amazon.in/SINCE-STORE-Itachi-Uchiha-Products/dp/B0CJMZGHDM\n",
      "https://www.youtube.com/watch?v=4D6as7R0OGM\n",
      "\n",
      "This is again a New Line!!\n"
     ]
    }
   ],
   "source": [
    "\"\"\"\"In Python file handling, the + mode is used in combination with other file modes to allow both reading and writing to a file. \n",
    "It must be paired with one of the basic modes: 'r', 'w', or a\"\"\"\n",
    "f = open('itachi uchiha.txt','r+')\n",
    "print(f.read())\n",
    "f.write('\\nThis is again a New Line!!')\n",
    "f.close()\n",
    "minato namikaze"
   ]
  },
  {
   "cell_type": "code",
   "execution_count": 21,
   "id": "c00e7063-bd63-4949-8180-75068efacf8d",
   "metadata": {},
   "outputs": [
    {
     "name": "stdout",
     "output_type": "stream",
     "text": [
      "\n",
      "This is again a New Line!!\n",
      "Done\n"
     ]
    }
   ],
   "source": [
    "f = open('jai ho.txt','w+')\n",
    "f.write('\\nThis is again a New Line!!')\n",
    "f.seek(1)#seek takes your cursor to the start which helps in reading the file after writing it as after writing,the cursor usually ends up at the end of line which gives problem while reading.\n",
    "print(f.read())\n",
    "f.close()\n",
    "print('Done')\n"
   ]
  },
  {
   "cell_type": "code",
   "execution_count": 23,
   "id": "5ea0110e-d1f7-4903-a120-43f180b271ea",
   "metadata": {},
   "outputs": [
    {
     "name": "stdout",
     "output_type": "stream",
     "text": [
      "done\n"
     ]
    }
   ],
   "source": [
    "#creating a copy of file\n",
    "f1=open(\"itachi uchiha.txt\",mode=\"r\")\n",
    "all_data=f1.read()\n",
    "\n",
    "f2=open(\"f1_copy.txt\",mode=\"w\")\n",
    "f2.write(all_data)\n",
    "f1.close()\n",
    "f2.close()\n",
    "print('done')"
   ]
  },
  {
   "cell_type": "code",
   "execution_count": null,
   "id": "9b592ca3-ec22-4085-8489-88777491ec41",
   "metadata": {},
   "outputs": [],
   "source": []
  }
 ],
 "metadata": {
  "kernelspec": {
   "display_name": "Python 3 (ipykernel)",
   "language": "python",
   "name": "python3"
  },
  "language_info": {
   "codemirror_mode": {
    "name": "ipython",
    "version": 3
   },
   "file_extension": ".py",
   "mimetype": "text/x-python",
   "name": "python",
   "nbconvert_exporter": "python",
   "pygments_lexer": "ipython3",
   "version": "3.13.5"
  }
 },
 "nbformat": 4,
 "nbformat_minor": 5
}
