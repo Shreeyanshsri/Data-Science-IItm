{
 "cells": [
  {
   "cell_type": "code",
   "execution_count": null,
   "id": "793fc7d6-c818-4c9b-920d-6b891ee11045",
   "metadata": {},
   "outputs": [],
   "source": [
    "EXCEPTION HANDLING"
   ]
  },
  {
   "cell_type": "code",
   "execution_count": null,
   "id": "6feef67d",
   "metadata": {},
   "outputs": [],
   "source": [
    "age=23\n",
    "try:\n",
    "    if age>=18:\n",
    "        print(\"can vote\")\n",
    "    else:\n",
    "        print(\"cant vote\")\n",
    "except TypeError: #if u know which error will occur mention its name with except otherwise just write except which will handle all the errors.\n",
    "    print(\"something wrong\")\n",
    "except:\n",
    "    print(\"invalid code\")"
   ]
  },
  {
   "cell_type": "markdown",
   "id": "2b9b3415",
   "metadata": {},
   "source": [
    "MODULE"
   ]
  },
  {
   "cell_type": "code",
   "execution_count": null,
   "id": "2ff381cb",
   "metadata": {},
   "outputs": [],
   "source": [
    "def show_time():\n",
    "    try:\n",
    "        while True:\n",
    "            import time\n",
    "            print(time.asctime())\n",
    "            time.sleep(1)\n",
    "            display(clear=True)\n",
    "    except:\n",
    "        print(\"code has been stopped by user\")\n",
    "show_time()"
   ]
  },
  {
   "cell_type": "code",
   "execution_count": null,
   "id": "032a4344-db15-4ccd-b2a7-06444b6f37b2",
   "metadata": {},
   "outputs": [],
   "source": [
    "import shreeyansh as ss"
   ]
  },
  {
   "cell_type": "code",
   "execution_count": null,
   "id": "8bb4d921-f1a9-4c73-a260-9927c8be8783",
   "metadata": {},
   "outputs": [],
   "source": [
    "ss.factorial(5)"
   ]
  },
  {
   "cell_type": "code",
   "execution_count": null,
   "id": "cab357b7-8741-446e-882e-9bffe458438c",
   "metadata": {},
   "outputs": [],
   "source": [
    "ss.check_palindrome(\"shreeyansh\")"
   ]
  },
  {
   "cell_type": "code",
   "execution_count": null,
   "id": "5b5392cc-c1ed-4a54-a387-46d695377883",
   "metadata": {},
   "outputs": [],
   "source": [
    "ss.maxi(150)"
   ]
  },
  {
   "cell_type": "code",
   "execution_count": null,
   "id": "cda9162b-f357-4fd3-b7af-decf729a1f11",
   "metadata": {},
   "outputs": [],
   "source": [
    "ss.print_star()"
   ]
  },
  {
   "cell_type": "code",
   "execution_count": null,
   "id": "fb8434f8-e2d6-499c-9ffe-d879b9249d7a",
   "metadata": {},
   "outputs": [],
   "source": [
    "ss.total_sales(10000)"
   ]
  },
  {
   "cell_type": "code",
   "execution_count": null,
   "id": "95e46799-38a1-430f-acb3-ff41a1badbd0",
   "metadata": {},
   "outputs": [],
   "source": [
    "ss.give_fibo(5)"
   ]
  },
  {
   "cell_type": "code",
   "execution_count": null,
   "id": "5097b19e-944a-43d8-9d6a-59af72e85d3e",
   "metadata": {},
   "outputs": [],
   "source": [
    "ss.mini()"
   ]
  },
  {
   "cell_type": "code",
   "execution_count": null,
   "id": "d3ea5378-290b-4db6-834c-1ea6c11a3626",
   "metadata": {},
   "outputs": [],
   "source": [
    "from shreeyansh import *\n",
    "print(\"done\")"
   ]
  },
  {
   "cell_type": "code",
   "execution_count": null,
   "id": "bd901ffc-a1e8-4fb8-b823-bcf3e4b04bfa",
   "metadata": {},
   "outputs": [],
   "source": [
    "import turtle\n",
    "for i in range(120):\n",
    "    turtle.bgcolor('black')\n",
    "    col=[\"red\",\"yellow\",\"green\",\"blue\",\"orange\"]\n",
    "    import random\n",
    "    picked_color=random.choice(col)\n",
    "    turtle.color(picked_color)\n",
    "    turtle.circle(100)\n",
    "    turtle.left(90)"
   ]
  },
  {
   "cell_type": "code",
   "execution_count": null,
   "id": "dc73d1b0-5fcc-470f-93bd-b1663a4b0e53",
   "metadata": {},
   "outputs": [],
   "source": [
    "import turtle\n",
    "for i in range(120):\n",
    "    turtle.bgcolor(\"black\")\n",
    "    turtle.color(\"green\")\n",
    "    turtle.forward(100)\n",
    "    turtle.left(120)\n",
    "    turtle.forward(100)\n",
    "    turtle.left(120)\n",
    "    turtle.forward(100)\n",
    "    turtle.done()"
   ]
  },
  {
   "cell_type": "code",
   "execution_count": null,
   "id": "60668b40-a90a-4576-9a5c-67ed07f67f5c",
   "metadata": {},
   "outputs": [],
   "source": [
    "# 1:- Text File\n",
    "#\n",
    "# .py,.html, .csv, .tsv, .css, .java, .c, c++,. json, .js,\n",
    "# 2: Binary File\n",
    "# Software\n",
    "# .pdf, .mp3, mp4, .png, .jpeg, .exe, .zip, .dat, .tar .xlsx, .ppt, .doc, .ipynb"
   ]
  },
  {
   "cell_type": "code",
   "execution_count": null,
   "id": "338aa7fc-efa0-4783-a5f6-416df49b761c",
   "metadata": {},
   "outputs": [],
   "source": [
    "# handling:- read, write, copy, append, delete, open, new"
   ]
  },
  {
   "cell_type": "code",
   "execution_count": 21,
   "id": "4cb7b3f1-e44c-4273-832f-389c1f9784a2",
   "metadata": {},
   "outputs": [
    {
     "name": "stdout",
     "output_type": "stream",
     "text": [
      "def show_time():\n",
      "    try:\n",
      "        while True:\n",
      "            import time\n",
      "            print(time.asctime())\n",
      "            time.sleep(1)\n",
      "            display(clear=True)\n",
      "    except:\n",
      "        print(\"code has been stopped by user\")\n",
      "\n",
      "def check_palindrome(world:str):\n",
      "    if type(world)==str:\n",
      "        if world==world[::-1]:\n",
      "            return 'palindrome'\n",
      "        else:\n",
      "            return 'not a palindrome'\n",
      "    else:\n",
      "        return 'invalid datatype'\n",
      "\n",
      "def give_fibo(n):\n",
      "    fibo = [0,1]\n",
      "    for i in range(n-2):\n",
      "        last_num=fibo[-1]\n",
      "        second_last_num=fibo[-2]\n",
      "        next_num=last_num+second_last_num\n",
      "        fibo.append(next_num)\n",
      "    return fibo\n",
      "\n",
      "def pattern_building():\n",
      "        n=int(input(\"enter a number: \"))\n",
      "        for i in range(1,n+1):\n",
      "            print(\" \"*(n-i) + i*\"* \")\n",
      "\n",
      "def print_star(n = 5, typ = 'mid',shape=\"LOL\"):\n",
      "  if typ  == 'left':\n",
      "    space  = ''\n",
      "\n",
      "  elif typ == 'right':\n",
      "    space = '  '\n",
      "\n",
      "  elif typ == 'mid':\n",
      "    space = ' '\n",
      "\n",
      "  for i in range(1,n+1):\n",
      "    print(space*(n-i) + i*f'{shape}')\n",
      "\n",
      "def sum(number):\n",
      "    result=0\n",
      "    for i in range(1,number+1):\n",
      "        result += i\n",
      "        print(result)\n",
      "\n",
      "def factorial(n):\n",
      "    result=1\n",
      "    for i in range(1,n+1):\n",
      "        result *= i\n",
      "    return result\n",
      "\n",
      "def total_sales(*args):\n",
      "    result=0\n",
      "    for i in args:\n",
      "        result+=i\n",
      "    return result\n",
      "\n",
      "sales=[45678,56,84,22,11]\n",
      "def mini(*args):\n",
      "    min_element=sales[0]\n",
      "    for i in sales[1:]:\n",
      "        if (i<min_element):\n",
      "            min_element=i\n",
      "    return min_element\n",
      "\n",
      "def maxi(*args):\n",
      "    max_element=sales[4]\n",
      "    for i in sales[:4]:\n",
      "        if(i>max_element):\n",
      "            max_element=i\n",
      "    return max_element\n",
      "\n",
      "company=[\"ola\",\"uber\",\"tata\",\"adani\"]\n",
      "def add_hashtag(*company):\n",
      "    result=[]\n",
      "    for i in company:\n",
      "        result.append(\"#\"+i.upper())\n",
      "    return result\n",
      "\n",
      "def store_records(**kwargs): #kwargs refers to dictionary\n",
      "    import pandas as pd\n",
      "    try:\n",
      "        data=pd.DataFrame(kwargs)\n",
      "        return data\n",
      "    except:\n",
      "        data=pd.DataFrame(kwargs,index=[1])\n",
      "        return data\n",
      "\n",
      "def soundbox(paisa):\n",
      "    from gtts import gTTS\n",
      "    text=f\"paytm pe {paisa} prapt huye\"\n",
      "    audio=gTTS(text)\n",
      "    audio.save(\"paytm.mp3\")\n",
      "    import pygame as pg\n",
      "    pg.init()\n",
      "    music=pg.mixer.Sound('paytm.mp3')\n",
      "    music.play()\n",
      "\n",
      "def vote(age):\n",
      "  print('can Vote!!') if age >= 18 else print('can not Vote!!')\n",
      "\n",
      "print(\"this is shreeyansh module in python\")\n"
     ]
    }
   ],
   "source": [
    "file=open(\"shreeyansh.py\",mode=\"r\")\n",
    "print(file.read())"
   ]
  },
  {
   "cell_type": "code",
   "execution_count": 25,
   "id": "e9ed9138-e7bd-4029-935b-1ab1b7abc6bb",
   "metadata": {},
   "outputs": [
    {
     "name": "stdout",
     "output_type": "stream",
     "text": [
      "def show_time():\n",
      "\n",
      "    try:\n",
      "\n",
      "        while True:\n",
      "\n",
      "            import time\n",
      "\n",
      "            print(time.asctime())\n",
      "\n",
      "            time.sleep(1)\n",
      "\n",
      "            display(clear=True)\n",
      "\n",
      "    except:\n",
      "\n",
      "        print(\"code has been stopped by user\")\n",
      "\n",
      "\n",
      "\n"
     ]
    }
   ],
   "source": [
    "file=open(\"shreeyansh.py\",mode=\"r\")\n",
    "for i in range(10):\n",
    "    print(file.readline())"
   ]
  },
  {
   "cell_type": "code",
   "execution_count": 28,
   "id": "fc742348-1391-49e5-a0e0-5ecb0c731163",
   "metadata": {},
   "outputs": [
    {
     "name": "stdout",
     "output_type": "stream",
     "text": [
      "    except:\n",
      "\n"
     ]
    }
   ],
   "source": [
    "f= open('shreeyansh.py',mode = 'r')\n",
    "for i in range(10):\n",
    "    if i == 7: #line no 8\n",
    "        print(f.readline())\n",
    "    else:\n",
    "        f.readline()"
   ]
  },
  {
   "cell_type": "code",
   "execution_count": 29,
   "id": "1905d4fe-0589-4311-96bc-5fb48c1ba64b",
   "metadata": {},
   "outputs": [
    {
     "name": "stdout",
     "output_type": "stream",
     "text": [
      "done\n"
     ]
    }
   ],
   "source": [
    "data = f.readlines()\n",
    "\n",
    "f.close()\n",
    "print('done')"
   ]
  },
  {
   "cell_type": "code",
   "execution_count": null,
   "id": "5566c04c-feff-4f0e-803c-9b813db5e640",
   "metadata": {},
   "outputs": [],
   "source": []
  }
 ],
 "metadata": {
  "kernelspec": {
   "display_name": "Python 3 (ipykernel)",
   "language": "python",
   "name": "python3"
  },
  "language_info": {
   "codemirror_mode": {
    "name": "ipython",
    "version": 3
   },
   "file_extension": ".py",
   "mimetype": "text/x-python",
   "name": "python",
   "nbconvert_exporter": "python",
   "pygments_lexer": "ipython3",
   "version": "3.13.5"
  }
 },
 "nbformat": 4,
 "nbformat_minor": 5
}
